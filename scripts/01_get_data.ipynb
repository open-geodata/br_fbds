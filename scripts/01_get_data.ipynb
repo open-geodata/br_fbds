{
 "cells": [
  {
   "cell_type": "markdown",
   "metadata": {},
   "source": [
    "<br>\n",
    "\n",
    "# Introdução\n"
   ]
  },
  {
   "cell_type": "code",
   "execution_count": null,
   "metadata": {},
   "outputs": [],
   "source": [
    "#!pip3 install traquitanas --upgrade"
   ]
  },
  {
   "cell_type": "code",
   "execution_count": null,
   "metadata": {},
   "outputs": [],
   "source": [
    "import string\n",
    "import time\n",
    "\n",
    "import pandas as pd\n",
    "from gecko import *\n",
    "from paths import *\n",
    "from paths import driver_path, input_path_tab, input_path_temp, logs_path, adds_path\n",
    "from selenium import webdriver\n",
    "from selenium.webdriver.common.by import By\n",
    "from selenium.webdriver.firefox.options import Options as FirefoxOptions\n",
    "from selenium.webdriver.firefox.service import Service as FirefoxService\n",
    "from traquitanas.scrapping import gecko, adds"
   ]
  },
  {
   "cell_type": "markdown",
   "metadata": {},
   "source": [
    "<br>\n",
    "\n",
    "## Driver\n"
   ]
  },
  {
   "cell_type": "code",
   "execution_count": null,
   "metadata": {},
   "outputs": [],
   "source": [
    "# Gecko\n",
    "gecko_path = gecko.get_path_geckodriver(driver_path)\n",
    "\n",
    "# Logs\n",
    "logs_filepath = logs_path / 'geckodriver.log'\n",
    "\n",
    "# Services\n",
    "service = FirefoxService(\n",
    "  executable_path=gecko_path,\n",
    "  log_path=logs_filepath\n",
    ")\n",
    "\n",
    "# Options\n",
    "options = FirefoxOptions()\n",
    "options.headless = True\n",
    "options.set_preference('intl.accept_languages', 'pt-BR, pt')\n",
    "\n",
    "# Create Driver\n",
    "driver = webdriver.Firefox(service=service, options=options)\n",
    "driver.maximize_window()\n",
    "\n",
    "# \n",
    "driver = adds.add_extension_xpath(driver, adds_path)\n"
   ]
  },
  {
   "cell_type": "markdown",
   "metadata": {},
   "source": [
    "<br>\n",
    "\n",
    "## Functions\n"
   ]
  },
  {
   "cell_type": "code",
   "execution_count": null,
   "metadata": {},
   "outputs": [],
   "source": [
    "# Voltar\n",
    "def click_back():\n",
    "    content_xpath = driver.find_element(By.XPATH, \"//*[@id='content']\")\n",
    "    back_xpath = content_xpath.find_element(\n",
    "        By.XPATH, \".//*[@class='item folder folder-parent']\"\n",
    "    )\n",
    "    back_xpath.click()\n",
    "    time.sleep(1)\n",
    "    return 0\n"
   ]
  },
  {
   "cell_type": "code",
   "execution_count": null,
   "metadata": {},
   "outputs": [],
   "source": [
    "# # Conteúdo Principal\n",
    "# content_xpath = driver.find_element(By.XPATH, \"//*[@id='content']\")\n",
    "# content_xpath\n",
    "\n",
    "# # Lista\n",
    "# list_folders = content_xpath.find_elements(\n",
    "#     By.XPATH, \".//*[@class='item folder']\"\n",
    "# )\n",
    "# list_folders = list_folders[0:3]\n",
    "# list_folders\n"
   ]
  },
  {
   "cell_type": "code",
   "execution_count": null,
   "metadata": {},
   "outputs": [],
   "source": [
    "def list_folders_h5ai():\n",
    "    \"\"\"\n",
    "    Lista as Pastas\n",
    "\n",
    "    :return: _description_\n",
    "    :rtype: _type_\n",
    "    \"\"\"\n",
    "\n",
    "    # Conteúdo Principal\n",
    "    content_xpath = driver.find_element(By.XPATH, \"//*[@id='content']\")\n",
    "\n",
    "    # Lista\n",
    "    list_folders = content_xpath.find_elements(\n",
    "        By.XPATH, \".//*[@class='item folder']\"\n",
    "    )\n",
    "\n",
    "    list_data = []\n",
    "    for folder in list_folders:\n",
    "        # URL\n",
    "        href_xpath = folder.find_element(By.XPATH, \".//a\")\n",
    "        href_value = href_xpath.get_attribute('href')\n",
    "        # print(href_value)\n",
    "\n",
    "        # Tipo\n",
    "        icon_xpath = folder.find_element(\n",
    "            By.XPATH, \".//a//span[@class='icon square']//img\"\n",
    "        )\n",
    "        icon_value = icon_xpath.get_attribute('alt')\n",
    "        # print(icon_value)\n",
    "\n",
    "        # Nome\n",
    "        label_xpath = folder.find_element(\n",
    "            By.XPATH, \".//a//span[@class='label']\"\n",
    "        )\n",
    "        label_value = label_xpath.text\n",
    "        # print(label_value)\n",
    "\n",
    "        # Data\n",
    "        date_xpath = folder.find_element(By.XPATH, \".//a//span[@class='date']\")\n",
    "        date_value = date_xpath.text\n",
    "        # print(date_value)\n",
    "\n",
    "        # Size\n",
    "        size_xpath = folder.find_element(By.XPATH, \".//a//span[@class='size']\")\n",
    "        size_value = size_xpath.text\n",
    "        # print(size_value)\n",
    "\n",
    "        #\n",
    "        dict_data = {\n",
    "            'url': href_value,\n",
    "            'type': icon_value,\n",
    "            'name': label_value,\n",
    "            'date': date_value,\n",
    "            'size': size_value,\n",
    "        }\n",
    "        # print(dict_data)\n",
    "        list_data.append(dict_data)\n",
    "\n",
    "    return list_data\n"
   ]
  },
  {
   "cell_type": "code",
   "execution_count": null,
   "metadata": {},
   "outputs": [],
   "source": [
    "def list_itens_h5ai():\n",
    "    # Conteúdo Principal\n",
    "    content_xpath = driver.find_element(By.XPATH, \"//*[@id='content']\")\n",
    "\n",
    "    # Lista\n",
    "    list_itens = content_xpath.find_elements(\n",
    "        By.XPATH, \".//*[@class='item file']\"\n",
    "    )\n",
    "\n",
    "    list_data = []\n",
    "    for folder in list_itens:\n",
    "        # URL\n",
    "        href_xpath = folder.find_element(By.XPATH, \".//a\")\n",
    "        href_value = href_xpath.get_attribute('href')\n",
    "        # print(href_value)\n",
    "\n",
    "        # Tipo\n",
    "        icon_xpath = folder.find_element(\n",
    "            By.XPATH, \".//a//span[@class='icon square']//img\"\n",
    "        )\n",
    "        icon_value = icon_xpath.get_attribute('alt')\n",
    "        # print(icon_value)\n",
    "\n",
    "        # Nome\n",
    "        label_xpath = folder.find_element(\n",
    "            By.XPATH, \".//a//span[@class='label']\"\n",
    "        )\n",
    "        label_value = label_xpath.text\n",
    "        # print(label_value)\n",
    "\n",
    "        # Data\n",
    "        date_xpath = folder.find_element(By.XPATH, \".//a//span[@class='date']\")\n",
    "        date_value = date_xpath.text\n",
    "        # print(date_value)\n",
    "\n",
    "        # Size\n",
    "        size_xpath = folder.find_element(By.XPATH, \".//a//span[@class='size']\")\n",
    "        size_value = size_xpath.text\n",
    "        # print(size_value)\n",
    "\n",
    "        #\n",
    "        dict_data = {\n",
    "            'url': href_value,\n",
    "            'type': icon_value,\n",
    "            'name': label_value,\n",
    "            'date': date_value,\n",
    "            'size': size_value,\n",
    "        }\n",
    "        # print(dict_data)\n",
    "        list_data.append(dict_data)\n",
    "    return list_data\n"
   ]
  },
  {
   "cell_type": "code",
   "execution_count": null,
   "metadata": {},
   "outputs": [],
   "source": [
    "def find_folder_by_name(name, click=True):\n",
    "    # Conteúdo Principal\n",
    "    content_xpath = driver.find_element(By.XPATH, \"//*[@id='content']\")\n",
    "\n",
    "    try:\n",
    "        foldername_xpath = content_xpath.find_element(\n",
    "            By.XPATH, f\".//span[text()='{name}']\"\n",
    "        )\n",
    "        if click:\n",
    "            foldername_xpath.click()\n",
    "            time.sleep(1)\n",
    "        return foldername_xpath\n",
    "    except Exception as e:\n",
    "        print(e)\n",
    "        raise ValueError('A very specific bad thing happened')\n",
    "\n",
    "\n",
    "# find_folder_by_name('ADAMANTINA')\n"
   ]
  },
  {
   "cell_type": "code",
   "execution_count": null,
   "metadata": {},
   "outputs": [],
   "source": [
    "def save_dataframe(my_list, my_path):\n",
    "    \"\"\"\n",
    "    _summary_\n",
    "\n",
    "    :param my_list: _description_\n",
    "    :type my_list: _type_\n",
    "    :param my_path: _description_\n",
    "    :type my_path: _type_\n",
    "    \"\"\"\n",
    "    # Cria e Salva Tabela\n",
    "    df = pd.DataFrame(my_list)\n",
    "    df.to_csv(my_path / 'links.csv', encoding='utf-8', index=False)\n",
    "    return 0\n"
   ]
  },
  {
   "cell_type": "markdown",
   "metadata": {},
   "source": [
    "<br>\n",
    "\n",
    "# Run\n"
   ]
  },
  {
   "cell_type": "code",
   "execution_count": null,
   "metadata": {},
   "outputs": [],
   "source": [
    "URL = 'https://geo.fbds.org.br/SP/'\n",
    "# URL = 'https://geo.fbds.org.br/SP/ADAMANTINA/'\n",
    "driver.get(URL)\n",
    "time.sleep(5)\n"
   ]
  },
  {
   "cell_type": "code",
   "execution_count": null,
   "metadata": {},
   "outputs": [],
   "source": [
    "# Initial Parameters\n",
    "list_all_files = []\n",
    "wait_seconds = 3"
   ]
  },
  {
   "cell_type": "code",
   "execution_count": null,
   "metadata": {},
   "outputs": [],
   "source": [
    "list_subfolders = list_folders_h5ai()\n",
    "len(list_subfolders)"
   ]
  },
  {
   "cell_type": "code",
   "execution_count": null,
   "metadata": {},
   "outputs": [],
   "source": [
    "def loop():\n",
    "    \"\"\"\n",
    "    Ponto inicio\n",
    "\n",
    "    Lista todos os arquivos e junta!\n",
    "    Define N Pastas\n",
    "\n",
    "    Lista todas as pastas\n",
    "    Se N pastas > 0, entra na pasta....\n",
    "    Se N pastas < 0,\n",
    "    \"\"\"\n",
    "\n",
    "    # Lista arquivos\n",
    "    list_files = list_itens_h5ai()\n",
    "\n",
    "    # Se tem Arquivos, junta na lista geral\n",
    "    if len(list_files) > 0:\n",
    "        list_all_files.extend(list_files)\n",
    "        print(f' > Lista geral está com: {len(list_all_files)} arquivos')\n",
    "    else:\n",
    "        print(f' > Pasta sem arquivos')\n",
    "\n",
    "    # Lista Pastas\n",
    "    list_subfolders = list_folders_h5ai()\n",
    "    \n",
    "    if len(list_subfolders) > 0:\n",
    "        for subfolder in list_subfolders:\n",
    "            # Parâmetros\n",
    "            subfolder_name = subfolder['name']\n",
    "            print(f'.\\\\{subfolder_name}')\n",
    "\n",
    "            # Entra na Pasta\n",
    "            find_folder_by_name(subfolder_name)\n",
    "\n",
    "            # Recursive\n",
    "            loop()\n",
    "\n",
    "            # Cria e Salva Tabela\n",
    "            save_dataframe(list_all_files, input_path_temp)\n",
    "\n",
    "            # Sai da Pasta\n",
    "            click_back()\n",
    "            time.sleep(wait_seconds)\n",
    "    else:\n",
    "        print(f' > Pasta sem subpastas...')\n"
   ]
  },
  {
   "cell_type": "code",
   "execution_count": null,
   "metadata": {},
   "outputs": [],
   "source": [
    "alphabet = list(string.ascii_uppercase)\n",
    "#alphabet = alphabet[18:19] # Filter\n",
    "alphabet"
   ]
  },
  {
   "cell_type": "code",
   "execution_count": null,
   "metadata": {},
   "outputs": [],
   "source": [
    "# Lista Pastas\n",
    "list_folders = list_folders_h5ai()\n",
    "\n",
    "for folder in list_folders:\n",
    "    # Parâmetros\n",
    "    folder_name = folder['name']    \n",
    "    first_letter = folder_name[0]\n",
    "\n",
    "    if first_letter in alphabet:\n",
    "        # Prints\n",
    "        print(f'{folder_name}')\n",
    "        print(f'Processando letra {first_letter}')\n",
    "\n",
    "        # Entra na Pasta\n",
    "        find_folder_by_name(folder_name)\n",
    "\n",
    "        # Recursive\n",
    "        loop()\n",
    "\n",
    "        # Sai da Pasta\n",
    "        click_back()\n",
    "        time.sleep(wait_seconds)\n",
    "\n",
    "# Fim\n",
    "print('Fim')"
   ]
  },
  {
   "cell_type": "code",
   "execution_count": null,
   "metadata": {},
   "outputs": [],
   "source": [
    "# Close Connection\n",
    "driver.quit()\n"
   ]
  },
  {
   "cell_type": "code",
   "execution_count": null,
   "metadata": {},
   "outputs": [],
   "source": []
  }
 ],
 "metadata": {
  "kernelspec": {
   "display_name": "Python 3.10.6 ('pablocarreira-lastest')",
   "language": "python",
   "name": "python3"
  },
  "language_info": {
   "codemirror_mode": {
    "name": "ipython",
    "version": 3
   },
   "file_extension": ".py",
   "mimetype": "text/x-python",
   "name": "python",
   "nbconvert_exporter": "python",
   "pygments_lexer": "ipython3",
   "version": "3.10.6"
  },
  "vscode": {
   "interpreter": {
    "hash": "4fe01b1e548a48625e93ad3ec9d7217eaa82c8c5a1273b2b8580787b5d806f08"
   }
  }
 },
 "nbformat": 4,
 "nbformat_minor": 2
}
