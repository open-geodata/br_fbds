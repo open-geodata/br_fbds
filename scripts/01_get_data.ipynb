{
 "cells": [
  {
   "cell_type": "markdown",
   "metadata": {},
   "source": [
    "<br>\n",
    "\n",
    "# Introdução\n"
   ]
  },
  {
   "cell_type": "code",
   "execution_count": null,
   "metadata": {},
   "outputs": [],
   "source": [
    "#!pip3 install traquitanas --upgrade\n"
   ]
  },
  {
   "cell_type": "code",
   "execution_count": null,
   "metadata": {},
   "outputs": [],
   "source": [
    "import pprint\n",
    "import time\n",
    "\n",
    "import pandas as pd\n",
    "from my_driver import Driver\n",
    "from paths import (\n",
    "    adds_path,\n",
    "    driver_path,\n",
    "    input_path_down,\n",
    "    input_path_tab_temp,\n",
    "    logs_path,\n",
    ")\n",
    "from selenium import webdriver\n",
    "from selenium.webdriver.common.action_chains import ActionChains\n",
    "from selenium.webdriver.common.by import By\n",
    "from selenium.webdriver.firefox.options import Options as FirefoxOptions\n",
    "from selenium.webdriver.firefox.service import Service as FirefoxService\n",
    "from traquitanas.scrapping import adds, gecko\n",
    "\n",
    "# from selenium.webdriver.support import expected_conditions as EC\n",
    "# from selenium.webdriver.support.ui import WebDriverWait\n",
    "# input_path"
   ]
  },
  {
   "cell_type": "markdown",
   "metadata": {},
   "source": [
    "<br>\n",
    "\n",
    "## Driver\n"
   ]
  },
  {
   "cell_type": "code",
   "execution_count": null,
   "metadata": {},
   "outputs": [],
   "source": [
    "# # Gecko\n",
    "# gecko_path = gecko.get_path_geckodriver(driver_path)\n",
    "\n",
    "# # Logs\n",
    "# logs_filepath = logs_path / 'geckodriver.log'\n",
    "\n",
    "# # Services\n",
    "# service = FirefoxService(executable_path=gecko_path, log_path=logs_filepath)\n",
    "\n",
    "# # Options\n",
    "# options = FirefoxOptions()\n",
    "# options.headless = False\n",
    "# options.set_preference('intl.accept_languages', 'pt-BR, pt')\n",
    "# options.set_preference('browser.download.folderList', 2)\n",
    "# options.set_preference('browser.download.manager.showWhenStarting', False)\n",
    "# options.set_preference('browser.download.dir', input_path_down.as_posix())\n",
    "# options.set_preference(\n",
    "#     'browser.helperApps.neverAsk.saveToDisk',\n",
    "#     'application/octet-stream, application/pdf, application/vnd.ms-excel',\n",
    "# )\n",
    "\n",
    "\n",
    "# # Create Driver\n",
    "# driver = webdriver.Firefox(service=service, options=options)\n",
    "# driver.maximize_window()\n",
    "\n",
    "# # Add Extension\n",
    "# driver = adds.add_extension_xpath(driver, adds_path)\n"
   ]
  },
  {
   "cell_type": "markdown",
   "metadata": {},
   "source": [
    "<br>\n",
    "\n",
    "## Functions\n"
   ]
  },
  {
   "cell_type": "code",
   "execution_count": null,
   "metadata": {},
   "outputs": [],
   "source": [
    "driver = Driver(\n",
    "    my_driver_path=driver_path,\n",
    "    my_logs_path=logs_path,    \n",
    "    my_download_path=input_path_down,\n",
    "    verify_ssl=True,\n",
    ")"
   ]
  },
  {
   "cell_type": "code",
   "execution_count": null,
   "metadata": {},
   "outputs": [],
   "source": [
    "def get_fbds():\n",
    "    \"\"\"\n",
    "    _summary_\n",
    "    \"\"\"\n",
    "    URL = 'https://geo.fbds.org.br/SP/'\n",
    "    driver.get(URL)\n",
    "    time.sleep(5)\n"
   ]
  },
  {
   "cell_type": "code",
   "execution_count": null,
   "metadata": {},
   "outputs": [],
   "source": [
    "def click_back():\n",
    "    \"\"\"\n",
    "    Voltar\n",
    "\n",
    "    :return: _description_\n",
    "    :rtype: _type_\n",
    "    \"\"\"\n",
    "    content_xpath = driver.find_element(By.XPATH, \"//*[@id='content']\")\n",
    "    back_xpath = content_xpath.find_element(\n",
    "        By.XPATH, \".//*[@class='item folder folder-parent']\"\n",
    "    )\n",
    "    back_xpath.click()\n",
    "    time.sleep(1)\n",
    "    return 0\n"
   ]
  },
  {
   "cell_type": "code",
   "execution_count": null,
   "metadata": {},
   "outputs": [],
   "source": [
    "def click_download():\n",
    "    \"\"\"\n",
    "    _summary_\n",
    "\n",
    "    :return: _description_\n",
    "    :rtype: _type_\n",
    "    \"\"\"\n",
    "    content_xpath = driver.find_element(By.XPATH, \"//*[@id='topbar']\")\n",
    "    down_xpath = content_xpath.find_element(By.XPATH, \".//*[@id='download']\")\n",
    "    down_xpath.click()\n",
    "    time.sleep(1)\n",
    "    return 0\n"
   ]
  },
  {
   "cell_type": "code",
   "execution_count": null,
   "metadata": {},
   "outputs": [],
   "source": [
    "def get_dict(folder):\n",
    "    \"\"\"\n",
    "    XPATH dos folders\n",
    "    :param folder: _description_\n",
    "    :type folder: _type_\n",
    "    \"\"\"\n",
    "    # URL\n",
    "    href_xpath = folder.find_element(By.XPATH, \".//a\")\n",
    "    href_value = href_xpath.get_attribute('href')\n",
    "    # print(href_value)\n",
    "\n",
    "    # Tipo\n",
    "    icon_xpath = folder.find_element(\n",
    "        By.XPATH, \".//a//span[@class='icon square']//img\"\n",
    "    )\n",
    "    icon_value = icon_xpath.get_attribute('alt')\n",
    "    # print(icon_value)\n",
    "\n",
    "    # Nome\n",
    "    label_xpath = folder.find_element(By.XPATH, \".//a//span[@class='label']\")\n",
    "    label_value = label_xpath.text\n",
    "    # print(label_value)\n",
    "\n",
    "    # Data\n",
    "    date_xpath = folder.find_element(By.XPATH, \".//a//span[@class='date']\")\n",
    "    date_value = date_xpath.text\n",
    "    # print(date_value)\n",
    "\n",
    "    # Size\n",
    "    size_xpath = folder.find_element(By.XPATH, \".//a//span[@class='size']\")\n",
    "    size_value = size_xpath.text\n",
    "    # print(size_value)\n",
    "\n",
    "    #\n",
    "    dict_data = {\n",
    "        'url': href_value,\n",
    "        'type': icon_value,\n",
    "        'name': label_value,\n",
    "        'date': date_value,\n",
    "        'size': size_value,\n",
    "    }\n",
    "    # print(dict_data)\n",
    "    return dict_data\n"
   ]
  },
  {
   "cell_type": "code",
   "execution_count": null,
   "metadata": {},
   "outputs": [],
   "source": [
    "def list_folders_h5ai():\n",
    "    \"\"\"\n",
    "    Lista as Pastas\n",
    "\n",
    "    :return: _description_\n",
    "    :rtype: _type_\n",
    "    \"\"\"\n",
    "    # Conteúdo Principal\n",
    "    content_xpath = driver.find_element(By.XPATH, \"//*[@id='content']\")\n",
    "\n",
    "    # Lista\n",
    "    list_folders = content_xpath.find_elements(\n",
    "        By.XPATH, \".//*[@class='item folder']\"\n",
    "    )\n",
    "\n",
    "    list_data = []\n",
    "    for folder in list_folders:\n",
    "        dict_data = get_dict(folder)\n",
    "        list_data.append(dict_data)\n",
    "    return list_data\n"
   ]
  },
  {
   "cell_type": "code",
   "execution_count": null,
   "metadata": {},
   "outputs": [],
   "source": [
    "def list_itens_h5ai():\n",
    "    \"\"\"\n",
    "    _summary_\n",
    "\n",
    "    :return: _description_\n",
    "    :rtype: _type_\n",
    "    \"\"\"\n",
    "    # Conteúdo Principal\n",
    "    content_xpath = driver.find_element(By.XPATH, \"//*[@id='content']\")\n",
    "\n",
    "    # Lista\n",
    "    list_itens = content_xpath.find_elements(\n",
    "        By.XPATH, \".//*[@class='item file']\"\n",
    "    )\n",
    "\n",
    "    list_data = []\n",
    "    for folder in list_itens:\n",
    "        dict_data = get_dict(folder)\n",
    "        list_data.append(dict_data)\n",
    "    return list_data\n"
   ]
  },
  {
   "cell_type": "code",
   "execution_count": null,
   "metadata": {},
   "outputs": [],
   "source": [
    "def find_folder_by_name(name, click=True):\n",
    "    \"\"\"\n",
    "    _summary_\n",
    "\n",
    "    :param name: _description_\n",
    "    :type name: _type_\n",
    "    :param click: _description_, defaults to True\n",
    "    :type click: bool, optional\n",
    "    :raises ValueError: _description_\n",
    "    :return: _description_\n",
    "    :rtype: _type_\n",
    "    \"\"\"\n",
    "    # Conteúdo Principal\n",
    "    content_xpath = driver.find_element(By.XPATH, \"//*[@id='content']\")\n",
    "\n",
    "    try:\n",
    "        foldername_xpath = content_xpath.find_element(\n",
    "            By.XPATH, f\".//span[text()='{name}']\"\n",
    "        )\n",
    "        if click:\n",
    "            foldername_xpath.click()\n",
    "            time.sleep(1)\n",
    "        return foldername_xpath\n",
    "    except Exception as e:\n",
    "        print(e)\n",
    "        raise ValueError('A very specific bad thing happened')\n",
    "\n",
    "\n",
    "# find_folder_by_name('ADAMANTINA')\n"
   ]
  },
  {
   "cell_type": "code",
   "execution_count": null,
   "metadata": {},
   "outputs": [],
   "source": [
    "def save_dataframe(my_list, my_path):\n",
    "    \"\"\"\n",
    "    _summary_\n",
    "\n",
    "    :param my_list: _description_\n",
    "    :type my_list: _type_\n",
    "    :param my_path: _description_\n",
    "    :type my_path: _type_\n",
    "    \"\"\"\n",
    "    # Cria e Salva Tabela\n",
    "    df = pd.DataFrame(my_list)\n",
    "    df.to_csv(my_path / 'links.csv', encoding='utf-8', index=False)\n",
    "    return 0\n"
   ]
  },
  {
   "cell_type": "code",
   "execution_count": null,
   "metadata": {},
   "outputs": [],
   "source": [
    "def get_list_municipios():\n",
    "    list_subfolders = list_folders_h5ai()\n",
    "    print(f'São  {len(list_subfolders)} pastas')\n",
    "    pprint.pprint(list_subfolders[:5])\n",
    "\n",
    "    list_municipios = [i['name'] for i in list_subfolders]\n",
    "    list_municipios.sort()\n",
    "    print(f'São {len(list_municipios)} municípios')\n",
    "    pprint.pprint(list_municipios[:5])\n",
    "    return list_municipios\n"
   ]
  },
  {
   "cell_type": "markdown",
   "metadata": {},
   "source": [
    "<br>\n",
    "\n",
    "# Run\n"
   ]
  },
  {
   "cell_type": "markdown",
   "metadata": {},
   "source": [
    "<br>\n",
    "\n",
    "## Abordagem 1\n"
   ]
  },
  {
   "cell_type": "code",
   "execution_count": null,
   "metadata": {},
   "outputs": [],
   "source": [
    "# Driver\n",
    "get_fbds()\n"
   ]
  },
  {
   "cell_type": "code",
   "execution_count": null,
   "metadata": {},
   "outputs": [],
   "source": [
    "# Initial Parameters\n",
    "list_all_files = []\n",
    "\n",
    "# Parametros\n",
    "wait_seconds = 3\n",
    "\n",
    "\n",
    "def loop():\n",
    "    \"\"\"\n",
    "    Lista todos os arquivos recursivamente\n",
    "    Lista todas as pastas e:\n",
    "    - se Nº Pastas > 0, entra na pasta e... repete;\n",
    "    - se Nº Pastas = 0, retorna pra pasta anterior;\n",
    "    \"\"\"\n",
    "\n",
    "    # Lista arquivos\n",
    "    list_files = list_itens_h5ai()\n",
    "\n",
    "    # Se tem Arquivos, junta na lista geral\n",
    "    if len(list_files) > 0:\n",
    "        list_all_files.extend(list_files)\n",
    "        print(f' > Lista geral está com: {len(list_all_files)} arquivos')\n",
    "    else:\n",
    "        print(f' > Pasta sem arquivos')\n",
    "\n",
    "    # Lista Pastas\n",
    "    _list_subfolders = list_folders_h5ai()\n",
    "\n",
    "    if len(_list_subfolders) > 0:\n",
    "        for subfolder in _list_subfolders:\n",
    "            # Parâmetros\n",
    "            subfolder_name = subfolder['name']\n",
    "            print(f'.\\\\{subfolder_name}')\n",
    "\n",
    "            # Entra na Pasta\n",
    "            find_folder_by_name(subfolder_name)\n",
    "\n",
    "            # Recursive\n",
    "            loop()\n",
    "\n",
    "            # Cria e Salva Tabela\n",
    "            save_dataframe(list_all_files, input_path_tab_temp)\n",
    "\n",
    "            # Sai da Pasta\n",
    "            click_back()\n",
    "            time.sleep(wait_seconds)\n",
    "    else:\n",
    "        print(f' > Pasta sem subpastas...')\n"
   ]
  },
  {
   "cell_type": "code",
   "execution_count": null,
   "metadata": {},
   "outputs": [],
   "source": [
    "list_municipios = get_list_municipios()\n"
   ]
  },
  {
   "cell_type": "code",
   "execution_count": null,
   "metadata": {},
   "outputs": [],
   "source": [
    "# Lista Pastas\n",
    "list_folders = list_folders_h5ai()\n",
    "\n",
    "for folder in list_folders:\n",
    "    # Parâmetros\n",
    "    nome_municipio = folder['name']\n",
    "\n",
    "    if nome_municipio in list_municipios:\n",
    "        # Prints\n",
    "        print(f'Processando letra {nome_municipio}')\n",
    "\n",
    "        # Entra na Pasta\n",
    "        find_folder_by_name(nome_municipio)\n",
    "\n",
    "        # Recursive\n",
    "        loop()\n",
    "\n",
    "        # Sai da Pasta\n",
    "        click_back()\n",
    "        time.sleep(wait_seconds)\n",
    "\n",
    "# Fim\n",
    "print('Fim')\n"
   ]
  },
  {
   "cell_type": "markdown",
   "metadata": {},
   "source": [
    "<br>\n",
    "\n",
    "## Abordagem 2\n"
   ]
  },
  {
   "cell_type": "code",
   "execution_count": null,
   "metadata": {},
   "outputs": [],
   "source": [
    "# Driver\n",
    "get_fbds()\n"
   ]
  },
  {
   "cell_type": "code",
   "execution_count": null,
   "metadata": {},
   "outputs": [],
   "source": [
    "# Lista dos Município\n",
    "list_municipios = get_list_municipios()\n",
    "list_municipios[50:60]\n"
   ]
  },
  {
   "cell_type": "code",
   "execution_count": null,
   "metadata": {},
   "outputs": [],
   "source": [
    "# Action\n",
    "a = ActionChains(driver)\n",
    "\n",
    "# Conteúdo Principal\n",
    "content_xpath = driver.find_element(By.XPATH, \"//*[@id='content']\")\n",
    "\n",
    "# Lista\n",
    "list_folders = content_xpath.find_elements(\n",
    "    By.XPATH,\n",
    "    \".//*[@class='item folder' or @class='item folder selected' or @class='item folder folder-parent']\",\n",
    ")\n",
    "\n",
    "# Results\n",
    "print(f'São {len(list_folders)} pastas')\n",
    "pprint.pprint(list_folders[:2])\n"
   ]
  },
  {
   "cell_type": "code",
   "execution_count": null,
   "metadata": {},
   "outputs": [],
   "source": [
    "# list_folders = list_folders[:3]\n"
   ]
  },
  {
   "cell_type": "code",
   "execution_count": null,
   "metadata": {},
   "outputs": [],
   "source": [
    "list_data = []\n",
    "\n",
    "for count, folder in enumerate(list_folders):\n",
    "    #\n",
    "    infos = get_dict(folder)\n",
    "    nome_municipio = infos['name']\n",
    "\n",
    "    # ddddd\n",
    "    if nome_municipio in list_municipios:\n",
    "        # Prints\n",
    "        print(f'Processando letra {nome_municipio}')\n",
    "\n",
    "        # URL\n",
    "        href_xpath = folder.find_element(By.XPATH, \".//a\")\n",
    "        href_value = href_xpath.get_attribute('href')\n",
    "\n",
    "        # Tipo\n",
    "        icon_xpath = folder.find_element(\n",
    "            By.XPATH, \".//a//span[@class='icon square']//img\"\n",
    "        )\n",
    "        icon_value = icon_xpath.get_attribute('alt')\n",
    "\n",
    "        # Nome\n",
    "        label_xpath = folder.find_element(\n",
    "            By.XPATH, \".//a//span[@class='label']\"\n",
    "        )\n",
    "        label_value = label_xpath.text\n",
    "\n",
    "        # Data\n",
    "        date_xpath = folder.find_element(By.XPATH, \".//a//span[@class='date']\")\n",
    "        date_value = date_xpath.text\n",
    "\n",
    "        # Size\n",
    "        size_xpath = folder.find_element(By.XPATH, \".//a//span[@class='size']\")\n",
    "        size_value = size_xpath.text\n",
    "\n",
    "        # Selector\n",
    "        selector_xpath = folder.find_element(\n",
    "            By.XPATH, \".//a//span[@class='selector']\"\n",
    "        )\n",
    "\n",
    "        # Dictionary\n",
    "        dict_data = {\n",
    "            'url': href_value,\n",
    "            'type': icon_value,\n",
    "            'name': label_value,\n",
    "            'date': date_value,\n",
    "            'size': size_value,\n",
    "        }\n",
    "        list_data.append(dict_data)\n",
    "\n",
    "        # Vai pro Elemento\n",
    "        print(f'inicio de download para {href_value}')\n",
    "        time.sleep(1)\n",
    "\n",
    "        # Xpath do Ícone Anterior e move pra lá\n",
    "        folder_anterior = list_folders[count - 1]\n",
    "        icon_xpath_anterior = folder_anterior.find_element(\n",
    "            By.XPATH, \".//a//span[@class='icon square']//img\"\n",
    "        )\n",
    "        driver.execute_script(\n",
    "            \"return arguments[0].scrollIntoView();\", icon_xpath_anterior\n",
    "        )\n",
    "        time.sleep(1)\n",
    "\n",
    "        # Passa o Mouse no Ícone da Pasta Atual\n",
    "        a.move_to_element(icon_xpath).perform()\n",
    "        time.sleep(3)\n",
    "\n",
    "        # Passa o Mouse no Href da Pasta Atual\n",
    "        a.move_to_element(href_xpath).perform()\n",
    "        time.sleep(1)\n",
    "\n",
    "        # Passa o Mouse no Selector da Pasta Atual e Clica!\n",
    "        a.move_to_element(selector_xpath).click().perform()\n",
    "        time.sleep(4)\n",
    "\n",
    "        # Faz Download\n",
    "        click_download()\n",
    "        time.sleep(4)\n",
    "\n",
    "        # Passa o Mouse no Href da Pasta Atual\n",
    "        a.move_to_element(icon_xpath).perform()\n",
    "        time.sleep(2)\n",
    "\n",
    "        # Passa o Mouse no Selector da Pasta Atual e Clica!\n",
    "        a.move_to_element(selector_xpath).click().perform()\n",
    "        time.sleep(2)\n",
    "\n",
    "# dddd\n",
    "list_data\n"
   ]
  },
  {
   "cell_type": "markdown",
   "metadata": {},
   "source": [
    "<br>\n",
    "\n",
    "## Pastas Atuais\n"
   ]
  },
  {
   "cell_type": "code",
   "execution_count": null,
   "metadata": {},
   "outputs": [],
   "source": [
    "# Lista todos os arquivos tar e, consequentemente, os municípios com download realizado\n",
    "list_downloads = list(input_path_down.rglob('*.tar'))\n",
    "list_downloads = [f.stem for f in list_downloads]\n",
    "list_downloads = list(set(list_downloads))\n",
    "list_downloads.sort()\n",
    "list_downloads\n",
    "\n",
    "# Resultados: Nº downloads\n",
    "print(f'São {len(list_downloads)} downloads')\n",
    "pprint.pprint(list_downloads[:5])\n"
   ]
  },
  {
   "cell_type": "code",
   "execution_count": null,
   "metadata": {},
   "outputs": [],
   "source": [
    "# Defini Municípios Faltantes\n",
    "list_municipios = list(set(list_municipios).difference(list_downloads))\n",
    "list_municipios.sort()\n",
    "list_municipios\n"
   ]
  },
  {
   "cell_type": "code",
   "execution_count": null,
   "metadata": {},
   "outputs": [],
   "source": []
  }
 ],
 "metadata": {
  "kernelspec": {
   "display_name": "pablocarreira-lastest",
   "language": "python",
   "name": "python3"
  },
  "language_info": {
   "codemirror_mode": {
    "name": "ipython",
    "version": 3
   },
   "file_extension": ".py",
   "mimetype": "text/x-python",
   "name": "python",
   "nbconvert_exporter": "python",
   "pygments_lexer": "ipython3",
   "version": "3.10.8 | packaged by conda-forge | (main, Nov 22 2022, 08:16:33) [MSC v.1929 64 bit (AMD64)]"
  },
  "vscode": {
   "interpreter": {
    "hash": "3eff2e4eec0fbea9d660dbbf3c9c38e7f3540f855f42d9d14e44150e78f59c2a"
   }
  }
 },
 "nbformat": 4,
 "nbformat_minor": 2
}
