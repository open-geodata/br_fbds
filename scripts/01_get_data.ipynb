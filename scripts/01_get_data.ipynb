{
 "cells": [
  {
   "cell_type": "markdown",
   "metadata": {},
   "source": [
    "<br>\n",
    "\n",
    "# Introdução\n"
   ]
  },
  {
   "cell_type": "code",
   "execution_count": null,
   "metadata": {},
   "outputs": [],
   "source": [
    "import time\n",
    "import pandas as pd\n",
    "\n",
    "from gecko import *\n",
    "import requests\n",
    "from paths import *\n",
    "from pathlib import Path\n",
    "from selenium import webdriver\n",
    "from selenium.webdriver.common.by import By\n",
    "from selenium.webdriver.firefox.options import Options as FirefoxOptions\n",
    "from selenium.webdriver.firefox.service import Service as FirefoxService\n"
   ]
  },
  {
   "cell_type": "markdown",
   "metadata": {},
   "source": [
    "<br>\n",
    "\n",
    "## Driver\n"
   ]
  },
  {
   "cell_type": "code",
   "execution_count": null,
   "metadata": {},
   "outputs": [],
   "source": [
    "# Services\n",
    "gecko_path = get_path_geckodriver(driver_path)\n",
    "\n",
    "# Logs\n",
    "logs_filepath = logs_path / 'geckodriver.log'\n",
    "\n",
    "# Services\n",
    "service = FirefoxService(executable_path=gecko_path, log_path=logs_filepath)\n",
    "\n",
    "# Options\n",
    "options = FirefoxOptions()\n",
    "options.headless = False\n",
    "options.set_preference('intl.accept_languages', 'pt-BR, pt')\n",
    "\n",
    "# Driver\n",
    "driver = webdriver.Firefox(service=service, options=options)\n",
    "driver.maximize_window()\n"
   ]
  },
  {
   "cell_type": "code",
   "execution_count": null,
   "metadata": {},
   "outputs": [],
   "source": [
    "# Add-ons Xpath\n",
    "xpath_path = adds_path / 'xpath.xpi'\n",
    "xpath_path = xpath_path.absolute().resolve()\n",
    "if not xpath_path.is_file():\n",
    "    url = 'https://addons.mozilla.org/firefox/downloads/file/3588871/xpath_finder-1.0.2-fx.xpi'\n",
    "    r = requests.get(url, timeout=60, verify=False)\n",
    "\n",
    "    with open(xpath_path, 'wb') as f:\n",
    "        f.write(r.content)\n",
    "\n",
    "driver.install_addon(str(xpath_path), temporary=True)\n"
   ]
  },
  {
   "cell_type": "markdown",
   "metadata": {},
   "source": [
    "<br>\n",
    "\n",
    "## Functions"
   ]
  },
  {
   "cell_type": "code",
   "execution_count": null,
   "metadata": {},
   "outputs": [],
   "source": [
    "# Voltar\n",
    "def click_back():\n",
    "    content_xpath = driver.find_element(By.XPATH, \"//*[@id='content']\")\n",
    "    back_xpath = content_xpath.find_element(\n",
    "        By.XPATH, \".//*[@class='item folder folder-parent']\"\n",
    "    )\n",
    "    back_xpath.click()\n",
    "    time.sleep(1)\n",
    "    return 0\n"
   ]
  },
  {
   "cell_type": "code",
   "execution_count": null,
   "metadata": {},
   "outputs": [],
   "source": [
    "# # Conteúdo Principal\n",
    "# content_xpath = driver.find_element(By.XPATH, \"//*[@id='content']\")\n",
    "# content_xpath\n",
    "\n",
    "# # Lista\n",
    "# list_folders = content_xpath.find_elements(\n",
    "#     By.XPATH, \".//*[@class='item folder']\"\n",
    "# )\n",
    "# list_folders = list_folders[0:3]\n",
    "# list_folders\n"
   ]
  },
  {
   "cell_type": "code",
   "execution_count": null,
   "metadata": {},
   "outputs": [],
   "source": [
    "def list_folders_h5ai():\n",
    "    \"\"\"\n",
    "    Lista as Pastas\n",
    "\n",
    "    :return: _description_\n",
    "    :rtype: _type_\n",
    "    \"\"\"\n",
    "\n",
    "    # Conteúdo Principal\n",
    "    content_xpath = driver.find_element(By.XPATH, \"//*[@id='content']\")\n",
    "\n",
    "    # Lista\n",
    "    list_folders = content_xpath.find_elements(\n",
    "        By.XPATH, \".//*[@class='item folder']\"\n",
    "    )\n",
    "\n",
    "    list_data = []\n",
    "    for folder in list_folders:\n",
    "        # URL\n",
    "        href_xpath = folder.find_element(By.XPATH, \".//a\")\n",
    "        href_value = href_xpath.get_attribute('href')\n",
    "        # print(href_value)\n",
    "\n",
    "        # Tipo\n",
    "        icon_xpath = folder.find_element(\n",
    "            By.XPATH, \".//a//span[@class='icon square']//img\"\n",
    "        )\n",
    "        icon_value = icon_xpath.get_attribute('alt')\n",
    "        # print(icon_value)\n",
    "\n",
    "        # Nome\n",
    "        label_xpath = folder.find_element(\n",
    "            By.XPATH, \".//a//span[@class='label']\"\n",
    "        )\n",
    "        label_value = label_xpath.text\n",
    "        # print(label_value)\n",
    "\n",
    "        # Data\n",
    "        date_xpath = folder.find_element(By.XPATH, \".//a//span[@class='date']\")\n",
    "        date_value = date_xpath.text\n",
    "        # print(date_value)\n",
    "\n",
    "        # Size\n",
    "        size_xpath = folder.find_element(By.XPATH, \".//a//span[@class='size']\")\n",
    "        size_value = size_xpath.text\n",
    "        # print(size_value)\n",
    "\n",
    "        #\n",
    "        dict_data = {\n",
    "            'url': href_value,\n",
    "            'type': icon_value,\n",
    "            'name': label_value,\n",
    "            'date': date_value,\n",
    "            'size': size_value,\n",
    "        }\n",
    "        # print(dict_data)\n",
    "        list_data.append(dict_data)\n",
    "\n",
    "    return list_data\n"
   ]
  },
  {
   "cell_type": "code",
   "execution_count": null,
   "metadata": {},
   "outputs": [],
   "source": [
    "def list_itens_h5ai():\n",
    "    # Conteúdo Principal\n",
    "    content_xpath = driver.find_element(By.XPATH, \"//*[@id='content']\")\n",
    "\n",
    "    # Lista\n",
    "    list_itens = content_xpath.find_elements(\n",
    "        By.XPATH, \".//*[@class='item file']\"\n",
    "    )\n",
    "\n",
    "    list_data = []\n",
    "    for folder in list_itens:\n",
    "        # URL\n",
    "        href_xpath = folder.find_element(By.XPATH, \".//a\")\n",
    "        href_value = href_xpath.get_attribute('href')\n",
    "        # print(href_value)\n",
    "\n",
    "        # Tipo\n",
    "        icon_xpath = folder.find_element(\n",
    "            By.XPATH, \".//a//span[@class='icon square']//img\"\n",
    "        )\n",
    "        icon_value = icon_xpath.get_attribute('alt')\n",
    "        # print(icon_value)\n",
    "\n",
    "        # Nome\n",
    "        label_xpath = folder.find_element(\n",
    "            By.XPATH, \".//a//span[@class='label']\"\n",
    "        )\n",
    "        label_value = label_xpath.text\n",
    "        # print(label_value)\n",
    "\n",
    "        # Data\n",
    "        date_xpath = folder.find_element(By.XPATH, \".//a//span[@class='date']\")\n",
    "        date_value = date_xpath.text\n",
    "        # print(date_value)\n",
    "\n",
    "        # Size\n",
    "        size_xpath = folder.find_element(By.XPATH, \".//a//span[@class='size']\")\n",
    "        size_value = size_xpath.text\n",
    "        # print(size_value)\n",
    "\n",
    "        #\n",
    "        dict_data = {\n",
    "            'url': href_value,\n",
    "            'type': icon_value,\n",
    "            'name': label_value,\n",
    "            'date': date_value,\n",
    "            'size': size_value,\n",
    "        }\n",
    "        # print(dict_data)\n",
    "        list_data.append(dict_data)\n",
    "    return list_data\n"
   ]
  },
  {
   "cell_type": "code",
   "execution_count": null,
   "metadata": {},
   "outputs": [],
   "source": [
    "def find_folder_by_name(name, click=True):\n",
    "    # Conteúdo Principal\n",
    "    content_xpath = driver.find_element(By.XPATH, \"//*[@id='content']\")\n",
    "\n",
    "    try:\n",
    "        foldername_xpath = content_xpath.find_element(\n",
    "            By.XPATH, f\".//span[text()='{name}']\"\n",
    "        )\n",
    "        if click:\n",
    "            foldername_xpath.click()\n",
    "            time.sleep(1)\n",
    "        return foldername_xpath        \n",
    "    except Exception as e:\n",
    "        print(e)\n",
    "        raise ValueError('A very specific bad thing happened')\n",
    "\n",
    "#find_folder_by_name('ADAMANTINA')\n"
   ]
  },
  {
   "cell_type": "markdown",
   "metadata": {},
   "source": [
    "<br>\n",
    "\n",
    "# Run"
   ]
  },
  {
   "cell_type": "code",
   "execution_count": null,
   "metadata": {},
   "outputs": [],
   "source": [
    "URL = 'https://geo.fbds.org.br/SP/'\n",
    "#URL = 'https://geo.fbds.org.br/SP/ADAMANTINA/'\n",
    "driver.get(URL)\n",
    "time.sleep(5)"
   ]
  },
  {
   "cell_type": "code",
   "execution_count": null,
   "metadata": {},
   "outputs": [],
   "source": [
    "list_all_files = []\n",
    "list_all_folders = []\n",
    "\n",
    "\n",
    "def loop():\n",
    "    \"\"\"\n",
    "    Ponto inicio\n",
    "\n",
    "    Lista todos os arquivos e junta!\n",
    "    Define N Pastas\n",
    "\n",
    "    Lista todas as pastas\n",
    "    Se N pastas > 0, entra na pasta....\n",
    "    Se N pastas < 0, \n",
    "    \"\"\"\n",
    "\n",
    "    # Lista arquivos\n",
    "    list_files = list_itens_h5ai()\n",
    "\n",
    "    # Se tem Arquivos, junta na lista geral\n",
    "    if len(list_files) > 0:\n",
    "        list_all_files.extend(list_files)\n",
    "        print(f' > Lista geral está com: {len(list_all_files)} arquivos')\n",
    "    else:\n",
    "        print(f' > Pasta sem arquivos')\n",
    "\n",
    "    # Lista Pastas\n",
    "    list_folders = list_folders_h5ai()\n",
    "    list_all_folders.extend(list_folders)    \n",
    "    if len(list_folders) > 0:\n",
    "        for folder in list_folders:\n",
    "            # Parâmetros\n",
    "            folder_name = folder['name']            \n",
    "            print(f'{folder_name}')\n",
    "\n",
    "            # Entra na Pasta\n",
    "            find_folder_by_name(folder_name)\n",
    "\n",
    "            # Recursive\n",
    "            loop()\n",
    "\n",
    "            # Sai da Pasta\n",
    "            click_back()\n",
    "            time.sleep(3)\n",
    "    else:\n",
    "        print(f' > Pasta sem subpastas...')\n",
    "\n",
    "    #return list_all_files, list_all_folders"
   ]
  },
  {
   "cell_type": "code",
   "execution_count": null,
   "metadata": {},
   "outputs": [],
   "source": [
    "#list_all_files, list_all_folders = \n",
    "loop()"
   ]
  },
  {
   "cell_type": "code",
   "execution_count": null,
   "metadata": {},
   "outputs": [],
   "source": [
    "df = pd.DataFrame(list_all_files)\n",
    "df.to_csv(\n",
    "    input_path / 'ddd.csv',\n",
    "    encoding='utf-8',\n",
    "    index=False\n",
    ")"
   ]
  },
  {
   "cell_type": "code",
   "execution_count": null,
   "metadata": {},
   "outputs": [],
   "source": [
    "# Close Connection\n",
    "driver.quit()\n"
   ]
  }
 ],
 "metadata": {
  "kernelspec": {
   "display_name": "Python 3.10.6 ('pablocarreira-lastest')",
   "language": "python",
   "name": "python3"
  },
  "language_info": {
   "codemirror_mode": {
    "name": "ipython",
    "version": 3
   },
   "file_extension": ".py",
   "mimetype": "text/x-python",
   "name": "python",
   "nbconvert_exporter": "python",
   "pygments_lexer": "ipython3",
   "version": "3.10.6"
  },
  "vscode": {
   "interpreter": {
    "hash": "4d2082c677fdf35794c222228cc7f22d43df5b8d8a9da3c3f9d9c2f356a8965c"
   }
  }
 },
 "nbformat": 4,
 "nbformat_minor": 2
}
