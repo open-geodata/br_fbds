{
 "cells": [
  {
   "cell_type": "markdown",
   "metadata": {},
   "source": [
    "<br>\n",
    "\n",
    "# Introdução"
   ]
  },
  {
   "cell_type": "code",
   "execution_count": null,
   "metadata": {},
   "outputs": [],
   "source": [
    "import pandas as pd\n",
    "\n",
    "from gecko import *\n",
    "import geopandas as gpd\n",
    "\n",
    "from paths import *\n",
    "from paths import input_path_tab\n"
   ]
  },
  {
   "cell_type": "markdown",
   "metadata": {},
   "source": [
    "<br>\n",
    "\n",
    "## List Files"
   ]
  },
  {
   "cell_type": "code",
   "execution_count": null,
   "metadata": {},
   "outputs": [],
   "source": [
    "list_shps_files = [str(f.name) for f in list(output_path.rglob('*.shp'))]\n",
    "list_shps_files = [f.split('_', maxsplit=2) for f in list_shps_files]\n",
    "list_shps_files = [f[2] for f in list_shps_files]\n",
    "list_shps_files = list(set(list_shps_files))\n",
    "list_shps_files"
   ]
  },
  {
   "cell_type": "code",
   "execution_count": null,
   "metadata": {},
   "outputs": [],
   "source": [
    "# APP\n",
    "list_files_app = list(output_path.rglob('APP/*APP.shp'))\n",
    "list_files_app = list(output_path.rglob('APP/*APP_USO.shp'))\n",
    "\n",
    "# HIDROGRAFIA\n",
    "list_files_hidro_simples = list(output_path.rglob('HIDROGRAFIA/*RIOS_SIMPLES.shp'))\n",
    "list_files_hidro_duplas = list(output_path.rglob('HIDROGRAFIA/*RIOS_DUPLOS.shp'))\n",
    "list_files_hidro_nascentes = list(output_path.rglob('HIDROGRAFIA/*NASCENTES.shp'))\n",
    "list_files_hidro_massa = list(output_path.rglob('HIDROGRAFIA/*MASSAS_DAGUA.shp'))\n",
    "\n",
    "# USO\n",
    "list_files_uso = list(output_path.rglob('USO/*USO.shp'))\n",
    "\n",
    "# Results\n",
    "list_files_app"
   ]
  },
  {
   "cell_type": "markdown",
   "metadata": {},
   "source": [
    "<br>\n",
    "\n",
    "## Read Data and Concat"
   ]
  },
  {
   "cell_type": "code",
   "execution_count": null,
   "metadata": {},
   "outputs": [],
   "source": [
    "gdf = gpd.read_file(\n",
    "    list_files_hidro_simples[0]\n",
    ")\n",
    "#gdf.crs\n",
    "gdf = gdf.to_crs(epsg=4326)\n"
   ]
  },
  {
   "cell_type": "code",
   "execution_count": null,
   "metadata": {},
   "outputs": [],
   "source": [
    "gdf.explore()"
   ]
  },
  {
   "cell_type": "markdown",
   "metadata": {},
   "source": [
    "<br>\n",
    "\n",
    "## Save Data"
   ]
  },
  {
   "cell_type": "code",
   "execution_count": null,
   "metadata": {},
   "outputs": [],
   "source": []
  },
  {
   "cell_type": "code",
   "execution_count": null,
   "metadata": {},
   "outputs": [],
   "source": []
  }
 ],
 "metadata": {
  "kernelspec": {
   "display_name": "Python 3.10.6 ('pablocarreira-lastest')",
   "language": "python",
   "name": "python3"
  },
  "language_info": {
   "codemirror_mode": {
    "name": "ipython",
    "version": 3
   },
   "file_extension": ".py",
   "mimetype": "text/x-python",
   "name": "python",
   "nbconvert_exporter": "python",
   "pygments_lexer": "ipython3",
   "version": "3.10.6"
  },
  "vscode": {
   "interpreter": {
    "hash": "4d2082c677fdf35794c222228cc7f22d43df5b8d8a9da3c3f9d9c2f356a8965c"
   }
  }
 },
 "nbformat": 4,
 "nbformat_minor": 2
}
