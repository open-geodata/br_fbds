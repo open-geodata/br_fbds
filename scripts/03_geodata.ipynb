{
 "cells": [
  {
   "cell_type": "markdown",
   "metadata": {},
   "source": [
    "<br>\n",
    "\n",
    "# Introdução\n"
   ]
  },
  {
   "cell_type": "code",
   "execution_count": null,
   "metadata": {},
   "outputs": [],
   "source": [
    "import geopandas as gpd\n",
    "import pandas as pd\n",
    "from gecko import *\n",
    "\n",
    "#from osgeo import gdal\n",
    "from paths import *\n",
    "from paths import input_path_tab, output_path"
   ]
  },
  {
   "cell_type": "markdown",
   "metadata": {},
   "source": [
    "<br>\n",
    "\n",
    "## List Files\n"
   ]
  },
  {
   "cell_type": "code",
   "execution_count": null,
   "metadata": {},
   "outputs": [],
   "source": [
    "list_shps_files = [str(f.name) for f in list(input_path_down.rglob('*.shp'))]\n",
    "list_shps_files = [f.split('_', maxsplit=2) for f in list_shps_files]\n",
    "list_shps_files = [f[2] for f in list_shps_files]\n",
    "list_shps_files = list(set(list_shps_files))\n",
    "list_shps_files.sort()\n",
    "list_shps_files\n"
   ]
  },
  {
   "cell_type": "code",
   "execution_count": null,
   "metadata": {},
   "outputs": [],
   "source": [
    "# APP\n",
    "list_files_app = list(input_path_down.rglob('*APP/*APP.shp'))\n",
    "list_files_app = list(input_path_down.rglob('*APP/*APP_USO.shp'))\n",
    "\n",
    "# HIDROGRAFIA\n",
    "list_files_hidro_simples = list(\n",
    "    input_path_down.rglob('*HIDROGRAFIA/*RIOS_SIMPLES.shp')\n",
    ")\n",
    "list_files_hidro_duplas = list(\n",
    "    input_path_down.rglob('*HIDROGRAFIA/*RIOS_DUPLOS*.shp')\n",
    ")\n",
    "list_files_hidro_nascentes = list(\n",
    "    input_path_down.rglob('*HIDROGRAFIA/*NASCENTES.shp')\n",
    ")\n",
    "list_files_hidro_massa = list(\n",
    "    input_path_down.rglob('*HIDROGRAFIA/*MASSA*_DAGUA*.shp')\n",
    ")\n",
    "\n",
    "# USO\n",
    "list_files_uso = list(input_path_down.rglob('*USO/*USO*.shp'))\n",
    "\n",
    "# Results\n",
    "list_files_hidro_massa\n"
   ]
  },
  {
   "cell_type": "markdown",
   "metadata": {},
   "source": [
    "<br>\n",
    "\n",
    "## Read Data and Concat\n"
   ]
  },
  {
   "cell_type": "code",
   "execution_count": null,
   "metadata": {},
   "outputs": [],
   "source": [
    "#gdal.SetConfigOption('SHAPE_RESTORE_SHX', 'YES')"
   ]
  },
  {
   "cell_type": "code",
   "execution_count": null,
   "metadata": {},
   "outputs": [],
   "source": [
    "#[gpd.read_file(i).to_crs(gpd.read_file(path[0]).crs) for i in list_files_hidro_massa]\n",
    "for shp in list_files_hidro_massa:\n",
    "    print(shp.name)\n",
    "    try:\n",
    "        gdf = gpd.read_file(shp)\n",
    "        gdf\n",
    "    \n",
    "    except Exception as e:\n",
    "        print(f'fff {shp.name}')\n",
    "        print(e)\n",
    "\n"
   ]
  },
  {
   "cell_type": "code",
   "execution_count": null,
   "metadata": {},
   "outputs": [],
   "source": [
    "gdf = gpd.read_file(list_files_hidro_massa[0])\n",
    "# gdf.crs\n",
    "gdf = gdf.to_crs(epsg=4326)\n",
    "\n",
    "list_shp = [gpd.read_file(shp).to_crs(epsg=4326) for shp in list_files_hidro_massa]\n",
    "\n",
    "\n",
    "gdf = gpd.GeoDataFrame(\n",
    "    pd.concat(\n",
    "        list_shp,\n",
    "        ignore_index=True\n",
    "    ),\n",
    "    crs=4326\n",
    ")\n"
   ]
  },
  {
   "cell_type": "code",
   "execution_count": null,
   "metadata": {},
   "outputs": [],
   "source": [
    "gdf.explore()\n"
   ]
  },
  {
   "cell_type": "markdown",
   "metadata": {},
   "source": [
    "<br>\n",
    "\n",
    "## Save Data\n"
   ]
  },
  {
   "cell_type": "code",
   "execution_count": null,
   "metadata": {},
   "outputs": [],
   "source": []
  },
  {
   "cell_type": "code",
   "execution_count": null,
   "metadata": {},
   "outputs": [],
   "source": []
  }
 ],
 "metadata": {
  "kernelspec": {
   "display_name": "Python 3.10.6 ('pablocarreira-lastest')",
   "language": "python",
   "name": "python3"
  },
  "language_info": {
   "codemirror_mode": {
    "name": "ipython",
    "version": 3
   },
   "file_extension": ".py",
   "mimetype": "text/x-python",
   "name": "python",
   "nbconvert_exporter": "python",
   "pygments_lexer": "ipython3",
   "version": "3.10.6"
  },
  "vscode": {
   "interpreter": {
    "hash": "4fe01b1e548a48625e93ad3ec9d7217eaa82c8c5a1273b2b8580787b5d806f08"
   }
  }
 },
 "nbformat": 4,
 "nbformat_minor": 2
}
