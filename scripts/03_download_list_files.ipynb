{
 "cells": [
  {
   "cell_type": "markdown",
   "metadata": {},
   "source": [
    "<br>\n",
    "\n",
    "# Introdução\n"
   ]
  },
  {
   "cell_type": "code",
   "execution_count": null,
   "metadata": {},
   "outputs": [],
   "source": [
    "import shutil\n",
    "import urllib.request\n",
    "from pathlib import Path\n",
    "\n",
    "import pandas as pd\n",
    "from paths import input_path_down, input_path_tab, input_path_tab_temp\n"
   ]
  },
  {
   "cell_type": "markdown",
   "metadata": {},
   "source": [
    "<br>\n",
    "\n",
    "## Functions\n"
   ]
  },
  {
   "cell_type": "code",
   "execution_count": null,
   "metadata": {},
   "outputs": [],
   "source": [
    "def find_estado(my_url):\n",
    "    \"\"\"\n",
    "    _summary_\n",
    "\n",
    "    :param my_url: _description_\n",
    "    :type my_url: _type_\n",
    "    :return: _description_\n",
    "    :rtype: _type_\n",
    "    \"\"\"\n",
    "    url_path = Path(my_url)\n",
    "    url_path_part = url_path.relative_to('https:/geo.fbds.org.br')\n",
    "    parts = url_path_part.parts[0:-1]\n",
    "    return parts[0]\n"
   ]
  },
  {
   "cell_type": "code",
   "execution_count": null,
   "metadata": {},
   "outputs": [],
   "source": [
    "def find_municipio(my_url):\n",
    "    \"\"\"\n",
    "    _summary_\n",
    "\n",
    "    :param my_url: _description_\n",
    "    :type my_url: _type_\n",
    "    :return: _description_\n",
    "    :rtype: _type_\n",
    "    \"\"\"\n",
    "    url_path = Path(my_url)\n",
    "    url_path_part = url_path.relative_to('https:/geo.fbds.org.br')\n",
    "    parts = url_path_part.parts[0:-1]\n",
    "    return parts[1]\n"
   ]
  },
  {
   "cell_type": "code",
   "execution_count": null,
   "metadata": {},
   "outputs": [],
   "source": [
    "def find_subfolder(my_url):\n",
    "    \"\"\"\n",
    "    _summary_\n",
    "\n",
    "    :param my_url: _description_\n",
    "    :type my_url: _type_\n",
    "    :return: _description_\n",
    "    :rtype: _type_\n",
    "    \"\"\"\n",
    "    url_path = Path(my_url)\n",
    "    url_path_part = url_path.relative_to('https:/geo.fbds.org.br')\n",
    "    parts = url_path_part.parts[0:-1]\n",
    "    return parts\n"
   ]
  },
  {
   "cell_type": "code",
   "execution_count": null,
   "metadata": {},
   "outputs": [],
   "source": [
    "def find_n_subfolder(my_url):\n",
    "    \"\"\"\n",
    "    _summary_\n",
    "\n",
    "    :param my_url: _description_\n",
    "    :type my_url: _type_\n",
    "    :return: _description_\n",
    "    :rtype: _type_\n",
    "    \"\"\"\n",
    "    url_path = Path(my_url)\n",
    "    url_path_part = url_path.relative_to('https:/geo.fbds.org.br')\n",
    "    parts = url_path_part.parts[0:-1]\n",
    "    return len(parts)\n"
   ]
  },
  {
   "cell_type": "code",
   "execution_count": null,
   "metadata": {},
   "outputs": [],
   "source": [
    "def find_extension(my_url):\n",
    "    \"\"\"\n",
    "    _summary_\n",
    "\n",
    "    :param my_url: _description_\n",
    "    :type my_url: _type_\n",
    "    :return: _description_\n",
    "    :rtype: _type_\n",
    "    \"\"\"\n",
    "    url_path = Path(my_url)\n",
    "    return url_path.suffix\n"
   ]
  },
  {
   "cell_type": "code",
   "execution_count": null,
   "metadata": {},
   "outputs": [],
   "source": [
    "# find_municipio('https://geo.fbds.org.br/SP/ADAMANTINA/APP/SP_3500105_APP.shp.xml')\n"
   ]
  },
  {
   "cell_type": "markdown",
   "metadata": {},
   "source": [
    "<br>\n",
    "\n",
    "## Read Links\n"
   ]
  },
  {
   "cell_type": "code",
   "execution_count": null,
   "metadata": {},
   "outputs": [],
   "source": [
    "# List all csv files\n",
    "list_csv = input_path_tab_temp.rglob('*.csv')\n",
    "\n",
    "# Read all csv files\n",
    "df = pd.concat((pd.read_csv(f) for f in list_csv), ignore_index=True)\n",
    "\n",
    "# Drop Duplicates\n",
    "df = df.drop_duplicates(subset=df.columns, keep=False)\n",
    "\n",
    "# Save\n",
    "df.to_csv(input_path_tab / 'links_final.csv', index=False)\n"
   ]
  },
  {
   "cell_type": "markdown",
   "metadata": {},
   "source": [
    "<br>\n",
    "\n",
    "## Read Dataframe\n"
   ]
  },
  {
   "cell_type": "code",
   "execution_count": null,
   "metadata": {},
   "outputs": [],
   "source": [
    "# Read Dataframe\n",
    "df = pd.read_csv(input_path_tab / 'links_final.csv')\n",
    "df['estado'] = df['url'].apply(find_estado)\n",
    "df['municipio'] = df['url'].apply(find_municipio)\n",
    "df['municipio'] = df['municipio'].str.replace('%20', '')\n",
    "df['extension'] = df['url'].apply(find_extension)\n",
    "df.sort_values(by='municipio', inplace=True)\n",
    "df.reset_index(drop=True, inplace=True)\n",
    "df.head()\n"
   ]
  },
  {
   "cell_type": "markdown",
   "metadata": {},
   "source": [
    "<br>\n",
    "\n",
    "## Estado\n"
   ]
  },
  {
   "cell_type": "code",
   "execution_count": null,
   "metadata": {},
   "outputs": [],
   "source": [
    "list_estado = list(set(df['estado']))\n",
    "list_estado.sort()\n",
    "list_estado\n"
   ]
  },
  {
   "cell_type": "markdown",
   "metadata": {},
   "source": [
    "<br>\n",
    "\n",
    "## Municípios\n"
   ]
  },
  {
   "cell_type": "code",
   "execution_count": null,
   "metadata": {},
   "outputs": [],
   "source": [
    "# Lista de Municípios\n",
    "list_mun = list(set(df['municipio']))\n",
    "list_mun.sort()\n",
    "print(f'São {len(list_mun)} municíos')\n",
    "list_mun = list_mun[56:]  # Filtrando\n",
    "list_mun\n"
   ]
  },
  {
   "cell_type": "code",
   "execution_count": null,
   "metadata": {},
   "outputs": [],
   "source": [
    "# df_temp = df[df['municipio'] == 'LUIZIANIA']\n",
    "# df_temp\n"
   ]
  },
  {
   "cell_type": "markdown",
   "metadata": {},
   "source": [
    "<br>\n",
    "\n",
    "## Extensions\n"
   ]
  },
  {
   "cell_type": "code",
   "execution_count": null,
   "metadata": {},
   "outputs": [],
   "source": [
    "# Lista de Extensões\n",
    "list_extensions = list(set(df['url']))\n",
    "list_extensions = [Path(x).suffix for x in list_extensions]\n",
    "list_extensions = list(set(list_extensions))\n",
    "list_extensions.sort()\n",
    "list_extensions.remove('.db')\n",
    "list_extensions.remove('.lock')\n",
    "list_extensions.remove('.rar')\n",
    "list_extensions\n"
   ]
  },
  {
   "cell_type": "code",
   "execution_count": null,
   "metadata": {},
   "outputs": [],
   "source": [
    "# Avalia Extensões\n",
    "# df_temp = df[df['extension'] == '.lock']\n",
    "# df_temp.head()\n"
   ]
  },
  {
   "cell_type": "markdown",
   "metadata": {},
   "source": [
    "<br>\n",
    "\n",
    "## Subfolders\n"
   ]
  },
  {
   "cell_type": "code",
   "execution_count": null,
   "metadata": {},
   "outputs": [],
   "source": [
    "df['subfolder'] = df['url'].apply(find_subfolder)\n",
    "df['n_subfolder'] = df['url'].apply(find_n_subfolder)\n",
    "list(set(df['n_subfolder']))\n",
    "\n",
    "# df_temp = df[df['n_subfolder'] == 2]\n",
    "# df_temp\n"
   ]
  },
  {
   "cell_type": "markdown",
   "metadata": {},
   "source": [
    "<br>\n",
    "\n",
    "## _Download_\n"
   ]
  },
  {
   "cell_type": "code",
   "execution_count": null,
   "metadata": {},
   "outputs": [],
   "source": [
    "for i, row in df.iterrows():\n",
    "    # Parâmetros\n",
    "    estado = row['estado']\n",
    "    municipio = row['municipio']\n",
    "    extension = row['extension']\n",
    "    url = row['url']\n",
    "    n_parts = row['n_subfolder']\n",
    "\n",
    "    # Só faz download de Extensões relevantes\n",
    "    if extension in list_extensions:\n",
    "\n",
    "        # Loop\n",
    "        for mun in list_mun:\n",
    "            if mun == municipio:\n",
    "                # URL\n",
    "                url_path = Path(url)\n",
    "                url_path_part = url_path.relative_to('https:/geo.fbds.org.br')\n",
    "\n",
    "                # Pega Partes\n",
    "                parts = url_path_part.parts[0:-1]\n",
    "\n",
    "                # É necessário estar na estrutura ('SP' , 'Município', 'Subfolder')\n",
    "                if n_parts == 3:\n",
    "                    down_path_full = (\n",
    "                        input_path_down / estado / municipio / f'{parts[2]}'\n",
    "                    )\n",
    "                    print(down_path_full)\n",
    "                    down_path_full.mkdir(exist_ok=True, parents=True)\n",
    "                    filename = down_path_full / url_path.name\n",
    "\n",
    "                    # Download\n",
    "                    with urllib.request.urlopen(url) as r, open(\n",
    "                        filename, 'wb'\n",
    "                    ) as out_file:\n",
    "                        shutil.copyfileobj(r, out_file)\n",
    "\n",
    "# Fim\n",
    "print('Fim')\n"
   ]
  },
  {
   "cell_type": "code",
   "execution_count": null,
   "metadata": {},
   "outputs": [],
   "source": []
  }
 ],
 "metadata": {
  "kernelspec": {
   "display_name": "Python 3.10.6 ('pablocarreira-lastest')",
   "language": "python",
   "name": "python3"
  },
  "language_info": {
   "codemirror_mode": {
    "name": "ipython",
    "version": 3
   },
   "file_extension": ".py",
   "mimetype": "text/x-python",
   "name": "python",
   "nbconvert_exporter": "python",
   "pygments_lexer": "ipython3",
   "version": "3.10.6"
  },
  "orig_nbformat": 4,
  "vscode": {
   "interpreter": {
    "hash": "4d2082c677fdf35794c222228cc7f22d43df5b8d8a9da3c3f9d9c2f356a8965c"
   }
  }
 },
 "nbformat": 4,
 "nbformat_minor": 2
}
