{
 "cells": [
  {
   "attachments": {},
   "cell_type": "markdown",
   "metadata": {},
   "source": [
    "<br>\n",
    "\n",
    "# Introdução"
   ]
  },
  {
   "cell_type": "code",
   "execution_count": null,
   "metadata": {},
   "outputs": [],
   "source": [
    "import markdown\n",
    "import pdfkit\n",
    "from paths import project_path, dataset_path\n"
   ]
  },
  {
   "cell_type": "code",
   "execution_count": null,
   "metadata": {},
   "outputs": [],
   "source": [
    "input_filename = 'README.md'\n",
    "input_filepath = project_path / input_filename\n",
    "print(input_filepath)\n",
    "\n",
    "output_html_filename = input_filename.replace('.md', '.html')\n",
    "output_html_filepath = dataset_path  / output_html_filename\n",
    "print(output_html_filepath)\n",
    "\n",
    "output_pdf_filename = input_filename.replace('.md', '.pdf')\n",
    "output_pdf_filepath = dataset_path  / output_pdf_filename\n",
    "print(output_pdf_filepath)"
   ]
  },
  {
   "cell_type": "code",
   "execution_count": null,
   "metadata": {},
   "outputs": [],
   "source": [
    "with open(input_filepath, 'r', encoding='utf-8') as f:\n",
    "    content = f.read()\n",
    "\n",
    "temp_html = markdown.markdown(content)\n",
    "\n",
    "with open(output_html_filepath, 'w', encoding='utf-8') as f:\n",
    "    f.write(temp_html)"
   ]
  },
  {
   "attachments": {},
   "cell_type": "markdown",
   "metadata": {},
   "source": [
    "<br>\n",
    "\n",
    "## HTML to PDF"
   ]
  },
  {
   "cell_type": "code",
   "execution_count": null,
   "metadata": {},
   "outputs": [],
   "source": [
    "# Configurations\n",
    "wkhtmltopdf_path = 'C://Program Files//wkhtmltopdf//bin//wkhtmltopdf.exe'\n",
    "config = pdfkit.configuration(wkhtmltopdf=wkhtmltopdf_path)\n",
    "\n",
    "# Convert From File\n",
    "pdfkit.from_file(\n",
    "    str(output_html_filepath),\n",
    "    str(output_pdf_filepath),\n",
    "    configuration=config,\n",
    "    #options=options,\n",
    "    verbose=True,\n",
    "    #toc=toc    \n",
    ")\n"
   ]
  },
  {
   "cell_type": "code",
   "execution_count": null,
   "metadata": {},
   "outputs": [],
   "source": []
  }
 ],
 "metadata": {
  "kernelspec": {
   "display_name": "pablocarreira-lastest",
   "language": "python",
   "name": "python3"
  },
  "language_info": {
   "codemirror_mode": {
    "name": "ipython",
    "version": 3
   },
   "file_extension": ".py",
   "mimetype": "text/x-python",
   "name": "python",
   "nbconvert_exporter": "python",
   "pygments_lexer": "ipython3",
   "version": "3.10.8"
  },
  "vscode": {
   "interpreter": {
    "hash": "3eff2e4eec0fbea9d660dbbf3c9c38e7f3540f855f42d9d14e44150e78f59c2a"
   }
  }
 },
 "nbformat": 4,
 "nbformat_minor": 2
}
