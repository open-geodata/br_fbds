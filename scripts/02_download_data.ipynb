{
 "cells": [
  {
   "cell_type": "markdown",
   "metadata": {},
   "source": [
    "<br>\n",
    "\n",
    "# Introdução\n"
   ]
  },
  {
   "cell_type": "code",
   "execution_count": null,
   "metadata": {},
   "outputs": [],
   "source": [
    "import shutil\n",
    "import urllib.request\n",
    "from pathlib import Path\n",
    "\n",
    "import pandas as pd\n",
    "from gecko import *\n",
    "from paths import input_path_tab, input_path_temp, output_path\n"
   ]
  },
  {
   "cell_type": "code",
   "execution_count": null,
   "metadata": {},
   "outputs": [],
   "source": [
    "# import urllib.parse\n",
    "# from urllib.parse import urljoin, urlparse, urlunparse\n"
   ]
  },
  {
   "cell_type": "markdown",
   "metadata": {},
   "source": [
    "<br>\n",
    "\n",
    "## Read Links\n"
   ]
  },
  {
   "cell_type": "code",
   "execution_count": null,
   "metadata": {},
   "outputs": [],
   "source": [
    "list_csv = input_path_temp.rglob('*.csv')\n",
    "\n",
    "df = pd.concat((pd.read_csv(f) for f in list_csv), ignore_index=True)\n",
    "\n",
    "df = df.drop_duplicates(subset=df.columns, keep=False)\n",
    "\n",
    "df['download'] = 'False'\n"
   ]
  },
  {
   "cell_type": "code",
   "execution_count": null,
   "metadata": {},
   "outputs": [],
   "source": [
    "df.to_csv(input_path_tab / 'links_final.csv', index=False)\n"
   ]
  },
  {
   "cell_type": "code",
   "execution_count": null,
   "metadata": {},
   "outputs": [],
   "source": [
    "df_urls = df['url']\n",
    "df_urls.to_csv(input_path_tab / 'only_links.csv', index=False,header=False)"
   ]
  },
  {
   "cell_type": "markdown",
   "metadata": {},
   "source": [
    "<br>\n",
    "\n",
    "## Download\n"
   ]
  },
  {
   "cell_type": "code",
   "execution_count": null,
   "metadata": {},
   "outputs": [],
   "source": [
    "df = pd.read_csv(\n",
    "    input_path_tab / 'links_final.csv',\n",
    ")\n",
    "\n",
    "df.head()\n"
   ]
  },
  {
   "cell_type": "code",
   "execution_count": null,
   "metadata": {},
   "outputs": [],
   "source": [
    "for i, row in df.iterrows():\n",
    "    # Parâmetros\n",
    "    url = row['url']\n",
    "    download = row['download']\n",
    "\n",
    "    # ddd\n",
    "    url_path = Path(url)\n",
    "    url_path_part = url_path.relative_to('https:/geo.fbds.org.br')\n",
    "\n",
    "    # Pega Partes\n",
    "    parts = url_path_part.parts[0:-1]\n",
    "    output_path_full = output_path / Path(*parts)\n",
    "    output_path_full.mkdir(exist_ok=True, parents=True)\n",
    "    filename = output_path_full / url_path.name\n",
    "    print(filename)\n",
    "\n",
    "    if download:\n",
    "        # print('Download feito')\n",
    "        pass\n",
    "\n",
    "    else:\n",
    "        # Download\n",
    "        with urllib.request.urlopen(url) as r, open(filename, 'wb') as out_file:\n",
    "            shutil.copyfileobj(r, out_file)\n",
    "\n",
    "        # Altera Status do download\n",
    "        df.loc[i, 'download'] = True\n",
    "        df.to_csv(input_path_tab / 'links_final.csv', index=False)\n",
    "\n",
    "# Fim\n",
    "print('Fim')\n"
   ]
  },
  {
   "cell_type": "code",
   "execution_count": null,
   "metadata": {},
   "outputs": [],
   "source": []
  }
 ],
 "metadata": {
  "kernelspec": {
   "display_name": "Python 3.10.6 ('pablocarreira-lastest')",
   "language": "python",
   "name": "python3"
  },
  "language_info": {
   "codemirror_mode": {
    "name": "ipython",
    "version": 3
   },
   "file_extension": ".py",
   "mimetype": "text/x-python",
   "name": "python",
   "nbconvert_exporter": "python",
   "pygments_lexer": "ipython3",
   "version": "3.10.6"
  },
  "vscode": {
   "interpreter": {
    "hash": "4d2082c677fdf35794c222228cc7f22d43df5b8d8a9da3c3f9d9c2f356a8965c"
   }
  }
 },
 "nbformat": 4,
 "nbformat_minor": 2
}
