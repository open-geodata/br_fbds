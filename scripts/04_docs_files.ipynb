{
 "cells": [
  {
   "cell_type": "markdown",
   "metadata": {},
   "source": [
    "<br>\n",
    "\n",
    "# Introdução\n"
   ]
  },
  {
   "cell_type": "code",
   "execution_count": 2,
   "metadata": {},
   "outputs": [],
   "source": [
    "import shutil\n",
    "import urllib.parse\n",
    "import urllib.request\n",
    "from pathlib import Path\n",
    "\n",
    "from paths import docs_path"
   ]
  },
  {
   "cell_type": "code",
   "execution_count": 1,
   "metadata": {},
   "outputs": [
    {
     "data": {
      "text/plain": [
       "['https://geo.fbds.org.br/Metadados.pdf',\n",
       " 'https://geo.fbds.org.br/Metadados.xml',\n",
       " 'https://geo.fbds.org.br/Metodologia.pdf']"
      ]
     },
     "execution_count": 1,
     "metadata": {},
     "output_type": "execute_result"
    }
   ],
   "source": [
    "list_docs = [\n",
    "    'https://geo.fbds.org.br/Metadados.pdf',\n",
    "    'https://geo.fbds.org.br/Metadados.xml',\n",
    "    'https://geo.fbds.org.br/Metodologia.pdf'\n",
    "]\n",
    "list_docs"
   ]
  },
  {
   "cell_type": "code",
   "execution_count": 4,
   "metadata": {},
   "outputs": [],
   "source": [
    "for url in list_docs:\n",
    "    # Filename    \n",
    "    filename = docs_path / Path(url).name\n",
    "\n",
    "    # Download the file from 'url' and save it locally under 'filename'\n",
    "    with urllib.request.urlopen(url) as r, open(filename, 'wb') as out_file:\n",
    "        shutil.copyfileobj(r, out_file)\n"
   ]
  },
  {
   "cell_type": "code",
   "execution_count": null,
   "metadata": {},
   "outputs": [],
   "source": []
  }
 ],
 "metadata": {
  "kernelspec": {
   "display_name": "pablocarreira-lastest",
   "language": "python",
   "name": "python3"
  },
  "language_info": {
   "codemirror_mode": {
    "name": "ipython",
    "version": 3
   },
   "file_extension": ".py",
   "mimetype": "text/x-python",
   "name": "python",
   "nbconvert_exporter": "python",
   "pygments_lexer": "ipython3",
   "version": "3.10.8"
  },
  "orig_nbformat": 4,
  "vscode": {
   "interpreter": {
    "hash": "3eff2e4eec0fbea9d660dbbf3c9c38e7f3540f855f42d9d14e44150e78f59c2a"
   }
  }
 },
 "nbformat": 4,
 "nbformat_minor": 2
}
