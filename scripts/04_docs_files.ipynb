{
 "cells": [
  {
   "cell_type": "markdown",
   "metadata": {},
   "source": [
    "<br>\n",
    "\n",
    "# Introdução\n"
   ]
  },
  {
   "cell_type": "code",
   "execution_count": null,
   "metadata": {},
   "outputs": [],
   "source": [
    "import shutil\n",
    "import urllib.parse\n",
    "import urllib.request\n",
    "from pathlib import Path\n",
    "\n",
    "from paths import docs_path"
   ]
  },
  {
   "cell_type": "code",
   "execution_count": null,
   "metadata": {},
   "outputs": [],
   "source": [
    "list_docs = ['https://geo.fbds.org.br/Metadados.pdf', 'https://geo.fbds.org.br/Metadados.xml', 'https://geo.fbds.org.br/Metodologia.pdf']\n",
    "list_docs"
   ]
  },
  {
   "cell_type": "code",
   "execution_count": null,
   "metadata": {},
   "outputs": [],
   "source": [
    "for url in list_docs:\n",
    "    # Filename    \n",
    "    filename = docs_path / Path(url).name\n",
    "\n",
    "    # Download the file from 'url' and save it locally under 'filename'\n",
    "    with urllib.request.urlopen(url) as r, open(filename, 'wb') as out_file:\n",
    "        shutil.copyfileobj(r, out_file)\n"
   ]
  },
  {
   "cell_type": "code",
   "execution_count": null,
   "metadata": {},
   "outputs": [],
   "source": []
  }
 ],
 "metadata": {
  "kernelspec": {
   "display_name": "Python 3.9.12 ('pablocarreira-py39')",
   "language": "python",
   "name": "python3"
  },
  "language_info": {
   "codemirror_mode": {
    "name": "ipython",
    "version": 3
   },
   "file_extension": ".py",
   "mimetype": "text/x-python",
   "name": "python",
   "nbconvert_exporter": "python",
   "pygments_lexer": "ipython3",
   "version": "3.9.12"
  },
  "vscode": {
   "interpreter": {
    "hash": "f37c76b4b024ed38c9f50f17f9e6defabebb1e5c97323517c6e8bca54ae41c65"
   }
  }
 },
 "nbformat": 4,
 "nbformat_minor": 2
}
